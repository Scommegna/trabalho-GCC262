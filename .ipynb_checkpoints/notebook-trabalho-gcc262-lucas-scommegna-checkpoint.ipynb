{
 "cells": [
  {
   "cell_type": "markdown",
   "id": "a70a328d-862b-4ef5-b401-d6b0c24713db",
   "metadata": {},
   "source": [
    "Autor: Lucas Scommegna\n",
    "\n",
    "Criação, Plotagem e Análise Estatística do Grafo sugerido pelo problema proposto."
   ]
  },
  {
   "cell_type": "markdown",
   "id": "140a16ae-5e00-4fa0-8cc3-7912d50ba3c8",
   "metadata": {},
   "source": [
    "Primeiramente, devem ser feitos os imports das funções que serão utilizadas:"
   ]
  },
  {
   "cell_type": "code",
   "execution_count": 4,
   "id": "dd859834-30c0-42e9-b709-2da1d186b1bf",
   "metadata": {},
   "outputs": [],
   "source": [
    "from AuxFuncs import create_graph_from_input, draw_graph\n",
    "from GraphModel import Graph"
   ]
  },
  {
   "cell_type": "markdown",
   "id": "aa4c5f0e-0fa8-4069-af27-b5292f1dbc0b",
   "metadata": {},
   "source": [
    "Após, podemos solicitar ao usuário a leitura dos dados:"
   ]
  },
  {
   "cell_type": "code",
   "execution_count": null,
   "id": "03944d80-7884-43c5-8aaf-069e4be46e52",
   "metadata": {},
   "outputs": [],
   "source": [
    "graph = Graph()\n",
    "graph = create_graph_from_input(graph)"
   ]
  },
  {
   "cell_type": "markdown",
   "id": "d355e053-00ef-4da1-b451-fd62f83ecde4",
   "metadata": {},
   "source": [
    "Assim, podemos fazer a plotagem do grafo dado como entrada:"
   ]
  },
  {
   "cell_type": "code",
   "execution_count": null,
   "id": "1386f5a7-b293-4c02-aa09-2506a5211f57",
   "metadata": {},
   "outputs": [],
   "source": [
    "draw_graph(graph)"
   ]
  },
  {
   "cell_type": "markdown",
   "id": "e2ec7e78-933b-45ed-98d2-c4d9ba8749c6",
   "metadata": {},
   "source": [
    "E por último chamar cada função estatística desse:"
   ]
  },
  {
   "cell_type": "code",
   "execution_count": 1,
   "id": "375391df-8f35-48e1-93d4-39b1082bd2bd",
   "metadata": {},
   "outputs": [
    {
     "ename": "NameError",
     "evalue": "name 'graph' is not defined",
     "output_type": "error",
     "traceback": [
      "\u001b[31m---------------------------------------------------------------------------\u001b[39m",
      "\u001b[31mNameError\u001b[39m                                 Traceback (most recent call last)",
      "\u001b[36mCell\u001b[39m\u001b[36m \u001b[39m\u001b[32mIn[1]\u001b[39m\u001b[32m, line 1\u001b[39m\n\u001b[32m----> \u001b[39m\u001b[32m1\u001b[39m \u001b[38;5;28mprint\u001b[39m(\u001b[33m\"\u001b[39m\u001b[33mTotal de vértices:\u001b[39m\u001b[33m\"\u001b[39m, \u001b[43mgraph\u001b[49m.get_total_of_vertexes())\n\u001b[32m      2\u001b[39m \u001b[38;5;28mprint\u001b[39m(\u001b[33m\"\u001b[39m\u001b[33mTotal de arestas:\u001b[39m\u001b[33m\"\u001b[39m, graph.get_total_of_edges())\n\u001b[32m      3\u001b[39m \u001b[38;5;28mprint\u001b[39m(\u001b[33m\"\u001b[39m\u001b[33mTotal de arcos:\u001b[39m\u001b[33m\"\u001b[39m, graph.get_total_of_arcs())\n",
      "\u001b[31mNameError\u001b[39m: name 'graph' is not defined"
     ]
    }
   ],
   "source": [
    "print(\"Total de vértices:\", graph.get_total_of_vertexes())\n",
    "print(\"Total de arestas:\", graph.get_total_of_edges())\n",
    "print(\"Total de arcos:\", graph.get_total_of_arcs())\n",
    "print(\"Vértices requeridos:\", graph.get_quantity_of_required_vertexes())\n",
    "print(\"Arestas requeridas:\", graph.get_quantity_of_required_edges())\n",
    "print(\"Arcos requeridos:\", graph.get_quantity_of_required_arcs())\n",
    "print(\"Order strength:\", graph.get_order_strength())\n",
    "print(\"Componentes conectados:\", graph.get_list_of_connected_components())\n",
    "print(\"Grau mínimo:\", graph.get_vertex_min_degree())\n",
    "print(\"Grau máximo:\", graph.get_vertex_max_degree())\n",
    "print(\"Centralidade de intermediação:\", graph.betweenness_centrality())\n",
    "print(\"Caminho médio:\", graph.get_average_path_length())\n",
    "print(\"Diâmetro do grafo:\", graph.get_diameter())"
   ]
  },
  {
   "cell_type": "code",
   "execution_count": null,
   "id": "d5c0d3dc-a075-4bf9-b72e-d747f7938f80",
   "metadata": {},
   "outputs": [],
   "source": []
  }
 ],
 "metadata": {
  "kernelspec": {
   "display_name": "Python 3 (ipykernel)",
   "language": "python",
   "name": "python3"
  },
  "language_info": {
   "codemirror_mode": {
    "name": "ipython",
    "version": 3
   },
   "file_extension": ".py",
   "mimetype": "text/x-python",
   "name": "python",
   "nbconvert_exporter": "python",
   "pygments_lexer": "ipython3",
   "version": "3.13.1"
  }
 },
 "nbformat": 4,
 "nbformat_minor": 5
}
