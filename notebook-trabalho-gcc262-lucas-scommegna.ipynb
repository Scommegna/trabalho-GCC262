{
 "cells": [
  {
   "cell_type": "markdown",
   "id": "a70a328d-862b-4ef5-b401-d6b0c24713db",
   "metadata": {},
   "source": [
    "Autor: Lucas Scommegna\n",
    "\n",
    "Criação, Plotagem e Análise Estatística do Grafo sugerido pelo problema proposto."
   ]
  },
  {
   "cell_type": "markdown",
   "id": "140a16ae-5e00-4fa0-8cc3-7912d50ba3c8",
   "metadata": {},
   "source": [
    "Primeiramente, devem ser feitos os imports das funções que serão utilizadas:"
   ]
  },
  {
   "cell_type": "code",
   "execution_count": null,
   "id": "dd859834-30c0-42e9-b709-2da1d186b1bf",
   "metadata": {},
   "outputs": [],
   "source": [
    "from AuxFuncs import draw_graph, read_dat_to_graph, graph_stats_table\n",
    "from GraphModel import Graph"
   ]
  },
  {
   "cell_type": "markdown",
   "id": "aa4c5f0e-0fa8-4069-af27-b5292f1dbc0b",
   "metadata": {},
   "source": [
    "Após, podemos solicitar ao usuário a leitura dos dados de algum arquivo .dat na pasta de selected_instances:"
   ]
  },
  {
   "cell_type": "code",
   "execution_count": null,
   "id": "03944d80-7884-43c5-8aaf-069e4be46e52",
   "metadata": {},
   "outputs": [],
   "source": [
    "graph = Graph()\n",
    "filepath = input(\"Type the filename: \")\n",
    "graph = read_dat_to_graph(filepath, graph)"
   ]
  },
  {
   "cell_type": "markdown",
   "id": "d355e053-00ef-4da1-b451-fd62f83ecde4",
   "metadata": {},
   "source": [
    "Assim, podemos fazer a plotagem do grafo dado como entrada:"
   ]
  },
  {
   "cell_type": "code",
   "execution_count": null,
   "id": "1386f5a7-b293-4c02-aa09-2506a5211f57",
   "metadata": {},
   "outputs": [],
   "source": [
    "draw_graph(graph)"
   ]
  },
  {
   "cell_type": "markdown",
   "id": "e2ec7e78-933b-45ed-98d2-c4d9ba8749c6",
   "metadata": {},
   "source": [
    "E por último chamar cada função estatística desse e fornecer em uma tabela do pandas:"
   ]
  },
  {
   "cell_type": "code",
   "execution_count": null,
   "id": "375391df-8f35-48e1-93d4-39b1082bd2bd",
   "metadata": {},
   "outputs": [],
   "source": [
    "df_stats = graph_stats_table(graph)\n",
    "df_stats"
   ]
  },
  {
   "cell_type": "code",
   "execution_count": null,
   "id": "4681c17f-a62c-4f4f-8323-3b1dc32b0737",
   "metadata": {},
   "outputs": [],
   "source": []
  }
 ],
 "metadata": {
  "kernelspec": {
   "display_name": "Python 3 (ipykernel)",
   "language": "python",
   "name": "python3"
  },
  "language_info": {
   "codemirror_mode": {
    "name": "ipython",
    "version": 3
   },
   "file_extension": ".py",
   "mimetype": "text/x-python",
   "name": "python",
   "nbconvert_exporter": "python",
   "pygments_lexer": "ipython3",
   "version": "3.13.1"
  }
 },
 "nbformat": 4,
 "nbformat_minor": 5
}
